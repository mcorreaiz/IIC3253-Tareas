{
  "nbformat": 4,
  "nbformat_minor": 0,
  "metadata": {
    "colab": {
      "name": "Cripto-t2.ipynb",
      "provenance": [],
      "collapsed_sections": [
        "iZ30t-s0K3jJ",
        "yr80pOowV_2S",
        "_T-mhexbKDC9",
        "nTjXYnopKccd",
        "KKtrmAC_LH0n"
      ]
    },
    "kernelspec": {
      "name": "python3",
      "display_name": "Python 3"
    },
    "language_info": {
      "name": "python"
    }
  },
  "cells": [
    {
      "cell_type": "markdown",
      "metadata": {
        "id": "iZ30t-s0K3jJ"
      },
      "source": [
        "### Exponenciación rápida con modulo\n",
        "(a ** b) mod n\\\n",
        "Algoritmo basado en la respuesta a [esta pregunta de StackOverflow](https://stackoverflow.com/questions/40578553/fast-modular-exponentiation-help-me-find-the-mistake)"
      ]
    },
    {
      "cell_type": "code",
      "metadata": {
        "id": "bY_Nw4hGK3Wu"
      },
      "source": [
        "def exp_mod(a: int, b: int, n: int) -> int:\n",
        "    t = 1\n",
        "    while b:\n",
        "        t = (t * (a if b%2 else 1)) % n\n",
        "        a = (a * a) % n\n",
        "        b >>= 1\n",
        "    return t"
      ],
      "execution_count": 1,
      "outputs": []
    },
    {
      "cell_type": "markdown",
      "metadata": {
        "id": "yr80pOowV_2S"
      },
      "source": [
        "### Test de Miller-Rabin\n",
        "True si `n` es primo, False otherwise\\\n",
        "Prob. de error menor o igual a 2 ** (-k)\\\n",
        "Algoritmo adaptado de las notas de clases, [Wikipedia](https://es.wikipedia.org/wiki/Test_de_primalidad_de_Miller-Rabin) y [Geeks4Geeks](https://www.geeksforgeeks.org/primality-test-set-3-miller-rabin/)"
      ]
    },
    {
      "cell_type": "code",
      "metadata": {
        "id": "ka-ImyyxzjL0"
      },
      "source": [
        "def miller_rabin(n: int, k: int) -> bool:\n",
        "    # Casos borde\n",
        "    if n == 1:\n",
        "        return False\n",
        "    if 2 <= n <= 3:\n",
        "        return True\n",
        "    d = n - 1;\n",
        "    s = 0\n",
        "    while (d % 2 == 0):\n",
        "        d >>= 1\n",
        "        s += 1\n",
        "    for _ in range(k):\n",
        "        a = random.randint(2, n-2)\n",
        "        x = exp_mod(a, d, n)\n",
        "        if x != 1 and x != n-1:\n",
        "            for i in range(s):\n",
        "                x = (x * x) % n;\n",
        "                if (x == 1):\n",
        "                    return False;\n",
        "                if (x == n - 1):\n",
        "                    break\n",
        "            else:\n",
        "                return False\n",
        "    # si pasó las k pruebas\n",
        "    return True"
      ],
      "execution_count": 2,
      "outputs": []
    },
    {
      "cell_type": "markdown",
      "metadata": {
        "id": "_T-mhexbKDC9"
      },
      "source": [
        "### Generación de primos\n",
        "Genera un primo con al menos `l` digitos. Prob de error menor o igual a 2 ** (-100)"
      ]
    },
    {
      "cell_type": "code",
      "metadata": {
        "id": "47H6acW3KCmX"
      },
      "source": [
        "def generar_primo(l: int) -> int:\n",
        "    base = 10 ** l\n",
        "    techo = base * 10\n",
        "    seen = set()\n",
        "    while True:\n",
        "        candidato = random.randint(base, techo-1)\n",
        "        if candidato not in seen and miller_rabin(candidato, 100):\n",
        "            return candidato\n",
        "        seen.add(candidato)"
      ],
      "execution_count": 3,
      "outputs": []
    },
    {
      "cell_type": "markdown",
      "metadata": {
        "id": "nTjXYnopKccd"
      },
      "source": [
        "### Algoritmo Extendido de Euclides\n",
        "Retorna (MCD(a,b), s, t) tal que MCD(a,b) = s\\*a + t\\*b\n",
        "\n",
        "Obtenido de las [notas de clases](https://github.com/UC-IIC3253/2021/blob/main/notas%20de%20clases/05-27.pdf) y de [Wikipedia](https://en.wikipedia.org/wiki/Extended_Euclidean_algorithm)"
      ]
    },
    {
      "cell_type": "code",
      "metadata": {
        "id": "VIoOeM8nKcNp"
      },
      "source": [
        "def alg_ext_euclides(a: int, b: int) -> (int, int,int):\n",
        "    old_r, r = a, b\n",
        "    old_s, s = 1, 0\n",
        "    old_t, t = 0, 1\n",
        "\n",
        "    while r:\n",
        "        q = old_r // r\n",
        "        old_r, r = r, old_r - q * r\n",
        "        old_s, s = s, old_s - q * s\n",
        "        old_t, t = t, old_t - q * t\n",
        "    return old_r, old_s, old_t\n"
      ],
      "execution_count": 4,
      "outputs": []
    },
    {
      "cell_type": "markdown",
      "metadata": {
        "id": "KKtrmAC_LH0n"
      },
      "source": [
        "### Inverso modular\n",
        "`a` y `n` son primos relativos"
      ]
    },
    {
      "cell_type": "code",
      "metadata": {
        "id": "F6GJ56OfLHp0"
      },
      "source": [
        "def inverso(a: int, n: int) -> int:\n",
        "    _, s, _ = alg_ext_euclides(a, n)\n",
        "    while s < 0:\n",
        "        s += n\n",
        "    return s"
      ],
      "execution_count": 5,
      "outputs": []
    },
    {
      "cell_type": "markdown",
      "metadata": {
        "id": "2f-1BNBDLkgx"
      },
      "source": [
        "### Generación de claves\n",
        "`d`, `e` y `N` deben ser de largo al menos `l`\\\n",
        "Las claves quedan almacenadas en `public_key.txt` y `private_key.txt`\\\n",
        "Clave publica es `(e,N)`\\\n",
        "Clave privada es `(d,N)`"
      ]
    },
    {
      "cell_type": "code",
      "metadata": {
        "id": "8v0I9QkpLjCo"
      },
      "source": [
        "import random\n",
        "\n",
        "def generar_clave(l: int) -> None:\n",
        "    _l = l // 2 + 1\n",
        "    P = generar_primo(_l)\n",
        "    Q = generar_primo(_l)\n",
        "    while Q == P:\n",
        "        Q = generar_primo(_l)\n",
        "    N = P * Q\n",
        "    phi_N = (P-1) * (Q-1)\n",
        "    rel_primes = False\n",
        "    while not rel_primes:\n",
        "        d = random.randint(max(P, Q), phi_N)\n",
        "        mcd, _, _ = alg_ext_euclides(d, phi_N)\n",
        "        rel_primes = mcd == 1\n",
        "    e = inverso(d, phi_N)\n",
        "    public = (e, N)\n",
        "    private = (d, N)\n",
        "    with open('public_key.txt', 'w') as f:\n",
        "        f.write('\\n'.join(str(i) for i in public))\n",
        "    with open('private_key.txt', 'w') as f:\n",
        "        f.write('\\n'.join(str(i) for i in private))\n",
        "\n"
      ],
      "execution_count": 10,
      "outputs": []
    },
    {
      "cell_type": "markdown",
      "metadata": {
        "id": "ufuiI9uBMKZ1"
      },
      "source": [
        "### RSA: funciones `enc(m)` y `dec(c)`\n",
        "Funciones de encriptación y decriptación que usan las claves contenidas en los archivos."
      ]
    },
    {
      "cell_type": "code",
      "metadata": {
        "id": "DEwqYZLPMKKe"
      },
      "source": [
        "def enc(m: int) -> int:\n",
        "    with open('public_key.txt') as f:\n",
        "        e, N = (int(i) for i in f.readlines())\n",
        "        c = exp_mod(m, e, N)\n",
        "    return c\n",
        "\n",
        "def dec(m: int) -> int:\n",
        "    with open('private_key.txt') as f:\n",
        "        d, N = (int(i) for i in f.readlines())\n",
        "        c = exp_mod(m, d, N)\n",
        "    return c"
      ],
      "execution_count": 7,
      "outputs": []
    }
  ]
}