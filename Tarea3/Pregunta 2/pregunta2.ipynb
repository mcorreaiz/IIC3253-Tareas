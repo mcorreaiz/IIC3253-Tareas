{
  "nbformat": 4,
  "nbformat_minor": 0,
  "metadata": {
    "colab": {
      "name": "Cripto-t3.ipynb",
      "provenance": [],
      "collapsed_sections": [
        "nTjXYnopKccd",
        "iZ30t-s0K3jJ",
        "yr80pOowV_2S",
        "BqyqqUKGupDq",
        "70wPxlmStCI8",
        "Fg3OSE8xuEfQ"
      ]
    },
    "kernelspec": {
      "name": "python3",
      "display_name": "Python 3"
    },
    "language_info": {
      "name": "python"
    }
  },
  "cells": [
    {
      "cell_type": "markdown",
      "metadata": {
        "id": "07NLEbgCseBh"
      },
      "source": [
        "# Tarea 3\n",
        "\n",
        "Matias Correa\\\n",
        "15634183"
      ]
    },
    {
      "cell_type": "code",
      "metadata": {
        "id": "5uT9L26CeBeq"
      },
      "source": [
        "import math\n",
        "from random import randint\n",
        "from hashlib import md5 as _md5"
      ],
      "execution_count": null,
      "outputs": []
    },
    {
      "cell_type": "markdown",
      "metadata": {
        "id": "nTjXYnopKccd"
      },
      "source": [
        "### Algoritmo Extendido de Euclides e Inverso modular\n",
        "Retorna (MCD(a,b), s, t) tal que MCD(a,b) = s\\*a + t\\*b\n",
        "\n",
        "Obtenido de las [notas de clases](https://github.com/UC-IIC3253/2021/blob/main/notas%20de%20clases/05-27.pdf) y de [Wikipedia](https://en.wikipedia.org/wiki/Extended_Euclidean_algorithm)"
      ]
    },
    {
      "cell_type": "code",
      "metadata": {
        "id": "4nA5oxv2tWuR"
      },
      "source": [
        "def alg_ext_euclides(a: int, b: int) -> (int, int,int):\n",
        "    old_r, r = a, b\n",
        "    old_s, s = 1, 0\n",
        "    old_t, t = 0, 1\n",
        "\n",
        "    while r:\n",
        "        q = old_r // r\n",
        "        old_r, r = r, old_r - q * r\n",
        "        old_s, s = s, old_s - q * s\n",
        "        old_t, t = t, old_t - q * t\n",
        "    return old_r, old_s, old_t\n",
        "\n",
        "def inverso(a: int, n: int) -> int:\n",
        "    _, s, _ = alg_ext_euclides(a, n)\n",
        "    while s < 0:\n",
        "        s += n\n",
        "    return s"
      ],
      "execution_count": null,
      "outputs": []
    },
    {
      "cell_type": "markdown",
      "metadata": {
        "id": "iZ30t-s0K3jJ"
      },
      "source": [
        "### Exponenciación rápida con modulo\n",
        "(a ** b) mod n\\\n",
        "Algoritmo basado en la respuesta a [esta pregunta de StackOverflow](https://stackoverflow.com/questions/40578553/fast-modular-exponentiation-help-me-find-the-mistake)"
      ]
    },
    {
      "cell_type": "code",
      "metadata": {
        "id": "bY_Nw4hGK3Wu"
      },
      "source": [
        "def exp_mod(a: int, b: int, n: int) -> int:\n",
        "    t = 1\n",
        "    if b < 0:\n",
        "        b = -b\n",
        "        a = inverso(a, n)\n",
        "    while b:\n",
        "        t = (t * (a if b%2 else 1)) % n\n",
        "        a = (a * a) % n\n",
        "        b >>= 1\n",
        "    return t"
      ],
      "execution_count": null,
      "outputs": []
    },
    {
      "cell_type": "markdown",
      "metadata": {
        "id": "yr80pOowV_2S"
      },
      "source": [
        "### ElGamal\n",
        "Lee el grupo desde `grupo.txt`\\\n",
        "Las claves quedan almacenadas en `public_key.txt` y `private_key.txt`"
      ]
    },
    {
      "cell_type": "code",
      "metadata": {
        "id": "ka-ImyyxzjL0"
      },
      "source": [
        "def generar_clave_ElGamal() -> None:\n",
        "    with open('grupo.txt', 'r') as arch:\n",
        "        p, g, q = (int(\"\".join(i.strip().split(\" \")), 16) for i in arch.readlines())\n",
        "    x = randint(1, q-1)\n",
        "    y = exp_mod(g, x, p)\n",
        "    with open('private_key.txt', 'w') as arch:\n",
        "        arch.write(str(x))\n",
        "    with open('public_key.txt', 'w') as arch:\n",
        "        arch.write(str(y))"
      ],
      "execution_count": null,
      "outputs": []
    },
    {
      "cell_type": "markdown",
      "metadata": {
        "id": "BqyqqUKGupDq"
      },
      "source": [
        "### MD5\n",
        "\n",
        "Wrapper de la implementacion de la libreria `hashlib`"
      ]
    },
    {
      "cell_type": "code",
      "metadata": {
        "id": "Unn2Ni2AurQN"
      },
      "source": [
        "def md5(m: str) -> int:\n",
        "    h = _md5()\n",
        "    h.update(m.encode())\n",
        "    return int(h.hexdigest(), 16)"
      ],
      "execution_count": null,
      "outputs": []
    },
    {
      "cell_type": "markdown",
      "metadata": {
        "id": "70wPxlmStCI8"
      },
      "source": [
        "### Firma de Schnorr\n",
        "\n",
        "Recibe el mensaje `m` a firmar y entrega la firma `(e, s)`"
      ]
    },
    {
      "cell_type": "code",
      "metadata": {
        "id": "uUplZrTRtGzm"
      },
      "source": [
        "def firmar_Schnorr(m: str) -> (int, int):\n",
        "    with open('grupo.txt', 'r') as arch:\n",
        "        p, g, q = (int(\"\".join(i.strip().split(\" \")), 16) for i in arch.readlines())\n",
        "    with open('private_key.txt', 'r') as arch:\n",
        "        x = int(arch.readline().strip())\n",
        "    \n",
        "    k = randint(1, q-1)\n",
        "    r = exp_mod(g, k, p)\n",
        "    e = md5(str(r) + m)\n",
        "    s = k - x*e\n",
        "    return (e, s)"
      ],
      "execution_count": null,
      "outputs": []
    },
    {
      "cell_type": "markdown",
      "metadata": {
        "id": "Fg3OSE8xuEfQ"
      },
      "source": [
        "### Verificar firma de Schnorr\n",
        "\n",
        "Retorna `True` si y solo si la firma `(e,s)` provista corresponde a una firma de Schnorr valida para el mensaje `m`."
      ]
    },
    {
      "cell_type": "code",
      "metadata": {
        "id": "cmNH0w8yuE1Z"
      },
      "source": [
        "def verificar_firma_Schnorr(m: str, firma: (int, int)) -> bool:\n",
        "    with open('grupo.txt', 'r') as arch:\n",
        "        p, g, q = (int(\"\".join(i.strip().split(\" \")), 16) for i in arch.readlines())\n",
        "    with open('public_key.txt', 'r') as arch:\n",
        "        y = int(arch.readline().strip())\n",
        "\n",
        "    e, s = firma\n",
        "    r = (exp_mod(g, s, p) * exp_mod(y, e, p)) % p\n",
        "    _e = md5(str(r) + m)\n",
        "\n",
        "    return e == _e"
      ],
      "execution_count": null,
      "outputs": []
    }
  ]
}