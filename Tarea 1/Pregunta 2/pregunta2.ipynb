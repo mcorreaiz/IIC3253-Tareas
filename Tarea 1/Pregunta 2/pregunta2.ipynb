{
  "nbformat": 4,
  "nbformat_minor": 0,
  "metadata": {
    "colab": {
      "name": "Critpo-t1.ipynb",
      "provenance": [],
      "collapsed_sections": []
    },
    "kernelspec": {
      "name": "python3",
      "display_name": "Python 3"
    },
    "language_info": {
      "name": "python"
    }
  },
  "cells": [
    {
      "cell_type": "markdown",
      "metadata": {
        "id": "yr80pOowV_2S"
      },
      "source": [
        "Constantes K y s obtenidas desde https://en.wikipedia.org/wiki/MD5"
      ]
    },
    {
      "cell_type": "code",
      "metadata": {
        "id": "ka-ImyyxzjL0"
      },
      "source": [
        "K = [0xd76aa478, 0xe8c7b756, 0x242070db, 0xc1bdceee, 0xf57c0faf, \n",
        "    0x4787c62a, 0xa8304613, 0xfd469501, 0x698098d8, 0x8b44f7af,\n",
        "    0xffff5bb1, 0x895cd7be, 0x6b901122, 0xfd987193, 0xa679438e, \n",
        "    0x49b40821, 0xf61e2562, 0xc040b340, 0x265e5a51, 0xe9b6c7aa, \n",
        "    0xd62f105d, 0x2441453, 0xd8a1e681, 0xe7d3fbc8, 0x21e1cde6, \n",
        "    0xc33707d6, 0xf4d50d87, 0x455a14ed, 0xa9e3e905, 0xfcefa3f8, \n",
        "    0x676f02d9, 0x8d2a4c8a, 0xfffa3942, 0x8771f681, 0x6d9d6122, \n",
        "    0xfde5380c, 0xa4beea44, 0x4bdecfa9, 0xf6bb4b60, 0xbebfbc70, \n",
        "    0x289b7ec6, 0xeaa127fa, 0xd4ef3085, 0x4881d05, 0xd9d4d039,\n",
        "    0xe6db99e5, 0x1fa27cf8, 0xc4ac5665, 0xf4292244, 0x432aff97,\n",
        "    0xab9423a7, 0xfc93a039, 0x655b59c3, 0x8f0ccc92, 0xffeff47d, \n",
        "    0x85845dd1, 0x6fa87e4f, 0xfe2ce6e0, 0xa3014314, 0x4e0811a1, \n",
        "    0xf7537e82, 0xbd3af235, 0x2ad7d2bb, 0xeb86d391]\n",
        "\n",
        "s = [7, 12, 17, 22,  7, 12, 17, 22,  7, 12, 17, 22,  7, 12, 17, 22,\n",
        "    5,  9, 14, 20,  5,  9, 14, 20,  5,  9, 14, 20,  5,  9, 14, 20,\n",
        "    4, 11, 16, 23,  4, 11, 16, 23,  4, 11, 16, 23,  4, 11, 16, 23,\n",
        "    6, 10, 15, 21,  6, 10, 15, 21,  6, 10, 15, 21,  6, 10, 15, 21]"
      ],
      "execution_count": 12,
      "outputs": []
    },
    {
      "cell_type": "markdown",
      "metadata": {
        "id": "ipyhNkGwWRky"
      },
      "source": [
        "Funciones helper para la rutina principal de MD5."
      ]
    },
    {
      "cell_type": "code",
      "metadata": {
        "id": "0JP4wGfUq2gR"
      },
      "source": [
        "import math\n",
        "\n",
        "def F(B, C, D):\n",
        "    return (B & C) | ((~B) & D)\n",
        " \n",
        "def G(B,C,D):\n",
        "    return (B & D) | (C & (~D))\n",
        " \n",
        "def H(B,C,D):\n",
        "    return B ^ C ^ D\n",
        " \n",
        "def I(B,C,D):\n",
        "    return C ^ (B | (~D))\n",
        "\n",
        "def left_rotate(k,bits):\n",
        "    bits = bits % 32\n",
        "    k = k % (2 ** 32)\n",
        "    result = (k<<bits) | (k>>(32 - bits))\n",
        "    return result % (2**32)\n",
        "\n",
        "def bitlen(m):\n",
        "    return len(m) * 8\n",
        "\n",
        "def pad(m):\n",
        "    next_byte = 2 ** 7\n",
        "    while mod(bitlen(m), 512) != 448:\n",
        "        m.append(next_byte)\n",
        "        next_byte = 0\n",
        "    return m\n",
        "\n",
        "def mod(n, m):\n",
        "    return int(math.fmod(math.fmod(n,m)+abs(m),m))\n",
        "\n",
        "def output(A, B, C, D):\n",
        "    bytes_out = A.to_bytes(4, 'little') + B.to_bytes(4, 'little') + C.to_bytes(4, 'little') + D.to_bytes(4, 'little')\n",
        "    return ''.join(\"{:02x}\".format(b) for b in bytes_out)\n"
      ],
      "execution_count": 37,
      "outputs": []
    },
    {
      "cell_type": "markdown",
      "metadata": {
        "id": "egYueuKXWdrp"
      },
      "source": [
        "Implementación de MD5 que recibe el estado inicial h0 como parámetro."
      ]
    },
    {
      "cell_type": "code",
      "metadata": {
        "id": "bK2-GXlgqpRj"
      },
      "source": [
        "def custom_md5(m: str, h0: int) -> str:\n",
        "    global s, K\n",
        "\n",
        "    bytes_m = bytearray(m,'utf-8')\n",
        "    \n",
        "    # paso1: padding hasta ser congr 448 mod 512\n",
        "    padded_m = pad(bytes_m)\n",
        "    # paso2: append el largo del msje (asumiendo 64 bits)\n",
        "    length_m = bitlen(m).to_bytes(8, 'little')\n",
        "    padded_m.extend(length_m)\n",
        "    # paso 3: Separar h0 en A, B, C, D\n",
        "    bytes_h = h0.to_bytes(16, 'little')\n",
        "\n",
        "    A0, B0, C0, D0 = int.from_bytes(bytes_h[12:], 'little'),\\\n",
        "                    int.from_bytes(bytes_h[8:12], 'little'),\\\n",
        "                    int.from_bytes(bytes_h[4:8], 'little'),\\\n",
        "                    int.from_bytes(bytes_h[:4], 'little')\n",
        "    \n",
        "    # paso 4: aplicar el algoritmo a cada bloque de 512 bits del msje\n",
        "    for i in range(0, len(padded_m), 64):\n",
        "        block = padded_m[i:i+64]\n",
        "        A, B, C, D = A0, B0, C0, D0\n",
        "\n",
        "        for j in range(64):\n",
        "            if 0 <= j <= 15:\n",
        "                f = F(B, C, D)\n",
        "                g = j\n",
        "            elif 16 <= j <= 31:\n",
        "                f = G(B, C, D)\n",
        "                g = mod((5*j + 1), 16)\n",
        "            elif 32 <= j <= 47:\n",
        "                f = H(B, C, D)\n",
        "                g = mod((3*j + 5), 16)\n",
        "            elif 48 <= j <= 63:\n",
        "                f = I(B, C, D)\n",
        "                g = mod((7*j), 16)\n",
        "\n",
        "            f = f + A + K[j] + int.from_bytes(padded_m[4*g:4*(g+1)], 'little')\n",
        "            A = D\n",
        "            D = C\n",
        "            C = B\n",
        "            B = B + left_rotate(f, s[j])\n",
        "        A0 += A\n",
        "        B0 += B\n",
        "        C0 += C\n",
        "        D0 += D\n",
        "        A0 %= 2 ** 32\n",
        "        B0 %= 2 ** 32\n",
        "        C0 %= 2 ** 32\n",
        "        D0 %= 2 ** 32\n",
        "    # paso 5: obtener representacion del digest segun la especificacion\n",
        "    return output(A0, B0, C0, D0)\n",
        "    "
      ],
      "execution_count": 27,
      "outputs": []
    }
  ]
}